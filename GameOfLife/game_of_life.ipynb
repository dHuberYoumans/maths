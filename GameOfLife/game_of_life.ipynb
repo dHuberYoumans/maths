{
 "cells": [
  {
   "cell_type": "code",
   "execution_count": 1,
   "metadata": {},
   "outputs": [],
   "source": [
    "import numpy as np\n",
    "from dataclasses import dataclass\n",
    "\n",
    "import seaborn as sns\n",
    "import matplotlib.pyplot as plt\n",
    "\n",
    "from scipy.signal import convolve2d"
   ]
  },
  {
   "cell_type": "code",
   "execution_count": 25,
   "metadata": {},
   "outputs": [
    {
     "data": {
      "text/plain": [
       "array([[1., 2., 2., 1., 0., 0., 0., 0., 0., 0.],\n",
       "       [1., 2., 2., 2., 0., 0., 0., 0., 0., 0.],\n",
       "       [1., 3., 2., 2., 0., 0., 0., 0., 0., 0.],\n",
       "       [0., 1., 1., 1., 0., 0., 0., 0., 0., 0.],\n",
       "       [0., 0., 0., 0., 0., 0., 0., 0., 0., 0.],\n",
       "       [0., 0., 0., 0., 0., 0., 0., 0., 0., 0.],\n",
       "       [0., 0., 0., 0., 0., 0., 0., 0., 0., 0.],\n",
       "       [0., 0., 0., 0., 0., 0., 0., 0., 0., 0.],\n",
       "       [0., 0., 0., 0., 0., 0., 0., 0., 0., 0.],\n",
       "       [0., 0., 0., 0., 0., 0., 0., 0., 0., 0.]])"
      ]
     },
     "execution_count": 25,
     "metadata": {},
     "output_type": "execute_result"
    }
   ],
   "source": [
    "grid = np.zeros((10,10))\n",
    "grid[1,1]= 1\n",
    "grid[1,2] = 1\n",
    "grid[2,2] = 1\n",
    "kernel = np.array([[1.,1.,1.],[1.,0.,1.],[1.,1.,1.]])\n",
    "\n",
    "convolve2d(grid,kernel,mode=\"same\",boundary=\"wrap\")"
   ]
  },
  {
   "cell_type": "code",
   "execution_count": 8,
   "metadata": {},
   "outputs": [],
   "source": [
    "@dataclass\n",
    "class Cell():\n",
    "    alive: bool = False\n",
    "\n",
    "    def set(self,state):\n",
    "        self.alive = state\n",
    "\n",
    "    def get(self):\n",
    "        return self.alive\n",
    "    \n",
    "class Lattice():\n",
    "    def __init__(self,size: int):\n",
    "        self.size = size\n",
    "        self.grid = np.array([[Cell() for i in range(self.size)] for j in range(self.size)])\n",
    "\n",
    "    def set_state(self, idx: list[tuple[int,int]], state: bool):\n",
    "        row_idx = [row for row, _ in idx]\n",
    "        col_idx = [col for _, col in idx]\n",
    "\n",
    "        for cell in self.grid[row_idx,col_idx]:\n",
    "            cell.set(state)\n",
    "\n",
    "\n",
    "    def get_states(self, grid = None):\n",
    "        if grid is not None:\n",
    "            return np.array([[cell.get() for cell in row] for row in grid])\n",
    "        else:\n",
    "            return np.array([[cell.get() for cell in row] for row in self.grid])\n",
    "    \n",
    "    def plot(self, ax = None):\n",
    "        data_ = self.get_states()\n",
    "        if ax is not None:\n",
    "            self.img = sns.heatmap(data_,cbar=False,linewidths=0.1,xticklabels=False,yticklabels=False,cmap='rocket_r',ax = ax)\n",
    "        else:\n",
    "            self.img = sns.heatmap(data_,cbar=False,linewidths=0.1,xticklabels=False,yticklabels=False,cmap='rocket_r')\n",
    "        \n",
    "\n",
    "    # def animate(self, frame):\n",
    "    #     self.update()\n",
    "    #     self.img.set_data(self.get_states())\n",
    "    #     return [self.img]\n",
    "        \n",
    "\n",
    "    def update(self):\n",
    "        # bottom\n",
    "        bottom = self.get_states(np.roll(self.grid,-1,axis=0)).astype(int)\n",
    "        # up\n",
    "        up = self.get_states(np.roll(self.grid,1,axis=0)).astype(int)\n",
    "        # right\n",
    "        right = self.get_states(np.roll(self.grid,-1,axis=1)).astype(int)\n",
    "        # left \n",
    "        left = self.get_states(np.roll(self.grid,1,axis=1)).astype(int)\n",
    "        # upper right\n",
    "        upper_right = self.get_states(np.roll(np.roll(self.grid,-1,axis=1),1,axis=0)).astype(int)\n",
    "        # upper left\n",
    "        upper_left = self.get_states(np.roll(np.roll(self.grid,1,axis=1),1,axis=0)).astype(int)\n",
    "        # bottom right\n",
    "        bottom_right = self.get_states(np.roll(np.roll(self.grid,-1,axis=1),-1,axis=0)).astype(int)\n",
    "        # bottom left\n",
    "        bottom_left = self.get_states(np.roll(np.roll(self.grid,1,axis=1),-1,axis=0)).astype(int)\n",
    "\n",
    "        live_or_die = bottom + up + right + left + upper_left + upper_right + bottom_left + bottom_right # number of live nbrs\n",
    "\n",
    "        # update according to Conway's Game of Life\n",
    "        # conditions for live cells\n",
    "        underpopulation = np.where( (live_or_die < 2) & (self.get_states() == True) ) # dies\n",
    "        overpopulation = np.where( (live_or_die > 3) & (self.get_states() == True) ) # dies\n",
    "        stable = np.where( ( (live_or_die == 2) | (live_or_die == 3) ) & (self.get_states() == True) ) # lives\n",
    "\n",
    "        # conditions for dead cells\n",
    "        reborn = np.where((live_or_die == 3) & (self.get_states() == False)) # lives\n",
    "\n",
    "        # update\n",
    "        for cell in self.grid[*underpopulation]:\n",
    "            cell.set(False)\n",
    "\n",
    "        for cell in self.grid[*overpopulation]:\n",
    "            cell.set(False)\n",
    "\n",
    "        for cell in self.grid[*stable]:\n",
    "            cell.set(True)\n",
    "\n",
    "        for cell in self.grid[*reborn]:\n",
    "            cell.set(True)\n",
    "\n",
    "\n",
    "        \n"
   ]
  },
  {
   "cell_type": "markdown",
   "metadata": {},
   "source": [
    "* Any live cell with fewer than two live neighbours dies, as if by underpopulation.\n",
    "\n",
    "* Any live cell with two or three live neighbours lives on to the next generation.\n",
    "\n",
    "* Any live cell with more than three live neighbours dies, as if by overpopulation.\n",
    "\n",
    "* Any dead cell with exactly three live neighbours becomes a live cell, as if by reproduction"
   ]
  },
  {
   "cell_type": "code",
   "execution_count": 14,
   "metadata": {},
   "outputs": [
    {
     "data": {
      "image/png": "[encoded data removed]",
      "text/plain": [
       "<Figure size 640x480 with 1 Axes>"
      ]
     },
     "metadata": {},
     "output_type": "display_data"
    }
   ],
   "source": [
    "N = 9\n",
    "lattice = Lattice(N)\n",
    "\n",
    "blinker = [(2,1), (2,2), (2,3)]\n",
    "\n",
    "glider = [(2,2), (2,3),(2,4),(1,4),(0,3)]\n",
    "\n",
    "\n",
    "lattice.set_state(glider,True)\n",
    "\n",
    "fig, ax = plt.subplots()\n",
    "\n",
    "lattice.plot()\n"
   ]
  },
  {
   "cell_type": "markdown",
   "metadata": {},
   "source": [
    "**HECS = Hexagonal Efficient Coordinate System**\n",
    "\n",
    "parametrisation of hexagonal lattice:\n",
    "\n",
    "* parametrisation by two arrays\n",
    "\n",
    "* array 0 parametrises all even rows of lattice\n",
    "\n",
    "* array 1 parametrises all odd rows of lattice \n",
    "\n",
    "* each hexagon uniquely identified by triple $(a,r,c) \\in \\{0,1\\} \\times \\mathbb{Z} \\times \\mathbb{Z}$ where $a$ indexes array, $r,c$ row and coloumns\n",
    "\n",
    "* there is a linear transformation from $T \\colon \\{0,1\\} \\times \\mathbb{Z} \\times \\mathbb{Z} \\to \\mathbb{R}^2$ sending a triple $(a,r,c) \\mapsto (x,y)$ to the center of the corresponding hexagon"
   ]
  },
  {
   "cell_type": "code",
   "execution_count": 18,
   "metadata": {},
   "outputs": [],
   "source": [
    "size = 2\n",
    "\n",
    "T = np.sqrt(3)*size*np.array([[0.5,0,1],[0.5*np.sqrt(3), np.sqrt(3),0]]) \n",
    "\n",
    "def HECS_to_Cartesian(p:np.ndarray):\n",
    "   assert p.shape == (3,1), f\"expected shape (3,1), got {p.shape}\"\n",
    "\n",
    "   return tuple((T @ p).flatten())\n",
    "\n",
    "def create_hexagon(center:tuple[float,float],size):\n",
    "    i,j = center \n",
    "    \n",
    "    vertices = [\n",
    "        (i, j + size), \n",
    "        (i - 0.5 * np.sqrt(3)*size, j + 0.5*size), \n",
    "        (i - 0.5 * np.sqrt(3)*size, j - 0.5*size), \n",
    "        (i, j - size), \n",
    "        (i + 0.5 * np.sqrt(3)*size, j - 0.5*size), \n",
    "        (i + 0.5 * np.sqrt(3)*size, j + 0.5*size), \n",
    "        ]\n",
    "    return vertices\n",
    "\n",
    "def get_neighbours(hexagon: tuple[int,int,int]):\n",
    "    a,r,c = hexagon\n",
    "\n",
    "    right = (a, r, c + 1)\n",
    "    right_above = (1 - a, r - (1 - a), c + a)\n",
    "    left_above = (1 - a, r - (1 - a), c - (1 - a))\n",
    "    left = (a, r, c - 1)\n",
    "    left_below = (1 - a, r + a, c - (1 - a))\n",
    "    right_below = (1 - a, r + a, c + a)\n",
    "\n",
    "    return (right, right_above, left_above, left, left_below, right_below)\n",
    "\n",
    "\n",
    "        "
   ]
  },
  {
   "cell_type": "code",
   "execution_count": 20,
   "metadata": {},
   "outputs": [
    {
     "data": {
      "image/png": "[encoded data removed]",
      "text/plain": [
       "<Figure size 640x480 with 1 Axes>"
      ]
     },
     "metadata": {},
     "output_type": "display_data"
    }
   ],
   "source": [
    "# TESTING get_neighbours\n",
    "center0 = (0,0)\n",
    "centers = []\n",
    "nbrs = get_neighbours((0,0,0))\n",
    "\n",
    "for nbr in nbrs:\n",
    "    centers.append(HECS_to_Cartesian( np.array(nbr).reshape(-1,1)) )\n",
    "\n",
    "fig, ax  = plt.subplots()\n",
    "\n",
    "ax.scatter(*center0,color='blue')\n",
    "\n",
    "for center in centers:\n",
    "    vertices = create_hexagon(center,size)\n",
    "    ax.scatter(*center,color='red')\n",
    "\n",
    "    for x,y in vertices:\n",
    "        ax.scatter(x,y,color='k')\n",
    "\n"
   ]
  },
  {
   "cell_type": "code",
   "execution_count": 36,
   "metadata": {},
   "outputs": [
    {
     "data": {
      "text/plain": [
       "{1: 'a', 2: 'b', 3: 'c'}"
      ]
     },
     "execution_count": 36,
     "metadata": {},
     "output_type": "execute_result"
    }
   ],
   "source": [
    "foo = {1:'a'}\n",
    "foo.update({2:'b',3:'c'})\n",
    "foo"
   ]
  },
  {
   "cell_type": "code",
   "execution_count": 92,
   "metadata": {},
   "outputs": [
    {
     "data": {
      "image/png": "[encoded data removed]",
      "text/plain": [
       "<Figure size 640x480 with 1 Axes>"
      ]
     },
     "metadata": {},
     "output_type": "display_data"
    }
   ],
   "source": [
    "# TESTING HECS \n",
    "ROWS = 4\n",
    "COLS = 10\n",
    "even_rows = np.array([ [(0,r,c) for c  in range(COLS)] for r in range(ROWS)])\n",
    "odd_rows = np.array([ [(1,r,c) for c  in range(COLS)] for r in range(ROWS)])\n",
    "\n",
    "centers = []\n",
    "\n",
    "for a in [even_rows,odd_rows]:\n",
    "    for row in a:\n",
    "        for c in row:\n",
    "            centers.append(HECS_to_Cartesian(c.reshape(-1,1)))\n",
    "\n",
    "fig, ax  = plt.subplots()\n",
    "\n",
    "for center in centers:\n",
    "    vertices = create_hexagon(center)\n",
    "    ax.scatter(*center,color='red')\n",
    "\n",
    "    for x,y in vertices:\n",
    "        ax.scatter(x,y,color='k')\n"
   ]
  },
  {
   "cell_type": "code",
   "execution_count": 16,
   "metadata": {},
   "outputs": [
    {
     "data": {
      "text/plain": [
       "[(0, 1),\n",
       " (-0.8660254037844386, 0.5),\n",
       " (-0.8660254037844386, -0.5),\n",
       " (0, -1),\n",
       " (0.8660254037844386, -0.5),\n",
       " (0.8660254037844386, 0.5)]"
      ]
     },
     "execution_count": 16,
     "metadata": {},
     "output_type": "execute_result"
    }
   ],
   "source": [
    "centers = [(0,0)]\n",
    "vertices = []\n",
    "for center in centers:\n",
    "    vertices.extend(create_hexagon(center))\n",
    "\n",
    "vertices"
   ]
  },
  {
   "cell_type": "code",
   "execution_count": 109,
   "metadata": {},
   "outputs": [],
   "source": [
    "@dataclass\n",
    "class Cell():\n",
    "    alive: bool = False\n",
    "\n",
    "    def set(self,state):\n",
    "        self.alive = state\n",
    "\n",
    "    def get(self):\n",
    "        return self.alive\n",
    "\n",
    "class HexLattice():\n",
    "    def __init__(self,rows,cols):\n",
    "        self.ROWS = rows\n",
    "        self.COLS = cols\n",
    "        self.grid = self.create_grid()\n",
    "        pass\n",
    "\n",
    "    def create_grid(self):\n",
    "        # HECS\n",
    "        self.even_rows = [ [(0,r,c) for c  in range(self.COLS)] for r in range(self.ROWS)]\n",
    "        self.odd_rows = [ [(1,r,c) for c  in range(self.COLS)] for r in range(self.ROWS)]\n",
    "        grid = {(a,b,c):Cell() for row in self.even_rows + self.odd_rows for (a,b,c) in row}\n",
    "\n",
    "        return grid\n",
    "    \n",
    "    def set_states(self, idx: list[tuple[int,int,int]], state: bool):\n",
    "        for (a,b,c) in idx:\n",
    "            self.grid[(a,b,c)].set(state)\n",
    "\n",
    "    def get_alive(self):\n",
    "        return [idx for idx in hex.grid.keys() if hex.grid[idx].get()]\n",
    "    \n",
    "    def get_states(self):\n",
    "        return np.array([[[self.grid[(a,r,c)].get() for c in range(self.COLS)] for r in range(self.ROWS)]for a in range(2)])\n",
    "    \n",
    "    def clear(self):\n",
    "        self.grid = self.create_grid()\n",
    "\n",
    "    def get_neighbours(self,hexagon: tuple[int,int,int]):\n",
    "        a,r,c = hexagon\n",
    "\n",
    "        right = (a, r, (c + 1 ) % self.COLS)\n",
    "        right_above = (1 - a, (r - (1 - a)) % self.ROWS, (c + a) % self.COLS)\n",
    "        left_above = (1 - a, (r - (1 - a)) % self.ROWS, (c - (1 - a)) % self.COLS)\n",
    "        left = (a, r, (c - 1) % self.COLS)\n",
    "        left_below = (1 - a, (r + a) % self.ROWS, (c - (1 - a)) % self.COLS)\n",
    "        right_below = (1 - a, (r + a) % self.ROWS, (c + a) % self.COLS)\n",
    "\n",
    "        return (right, right_above, left_above, left, left_below, right_below)\n",
    "\n",
    "    def update(self):\n",
    "        current_states = self.get_states()\n",
    "\n",
    "        for id in self.grid.keys():\n",
    "            current_cell_state = self.grid[id]\n",
    "            nbr_state = 0\n",
    "            nbrs = self.get_neighbours(id)\n",
    "            for nbr in nbrs:\n",
    "                nbr_state += current_states[nbr]\n",
    "\n",
    "            # live cells\n",
    "            if current_cell_state.get() and nbr_state == 3: # live\n",
    "                continue\n",
    "            if current_cell_state.get() and nbr_state < 3: # die, underpopulation\n",
    "                current_cell_state.set(False)\n",
    "            if current_cell_state.get() and nbr_state > 3: # die, overpopulation\n",
    "                current_cell_state.set(False)\n",
    "\n",
    "            # dead cells\n",
    "            if not current_cell_state.get() and nbr_state == 3: # live\n",
    "                current_cell_state.set(True)"
   ]
  },
  {
   "cell_type": "code",
   "execution_count": 116,
   "metadata": {},
   "outputs": [
    {
     "data": {
      "text/plain": [
       "{(0, 0, 0): Cell(alive=True),\n",
       " (0, 0, 1): Cell(alive=True),\n",
       " (0, 0, 2): Cell(alive=True),\n",
       " (0, 1, 0): Cell(alive=False),\n",
       " (0, 1, 1): Cell(alive=False),\n",
       " (0, 1, 2): Cell(alive=False),\n",
       " (1, 0, 0): Cell(alive=True),\n",
       " (1, 0, 1): Cell(alive=True),\n",
       " (1, 0, 2): Cell(alive=False),\n",
       " (1, 1, 0): Cell(alive=True),\n",
       " (1, 1, 1): Cell(alive=True),\n",
       " (1, 1, 2): Cell(alive=False)}"
      ]
     },
     "execution_count": 116,
     "metadata": {},
     "output_type": "execute_result"
    }
   ],
   "source": [
    "hex = HexLattice(2,3)\n",
    "live = [(1,0,1)] + [(a,b,c) for (a,b,c) in hex.get_neighbours((1,0,1))]\n",
    "hex.set_states(live,True)\n",
    "hex.grid\n"
   ]
  },
  {
   "cell_type": "code",
   "execution_count": 115,
   "metadata": {},
   "outputs": [
    {
     "data": {
      "text/plain": [
       "{(0, 0, 0): Cell(alive=False),\n",
       " (0, 0, 1): Cell(alive=False),\n",
       " (0, 0, 2): Cell(alive=False),\n",
       " (0, 1, 0): Cell(alive=False),\n",
       " (0, 1, 1): Cell(alive=False),\n",
       " (0, 1, 2): Cell(alive=False),\n",
       " (0, 2, 0): Cell(alive=False),\n",
       " (0, 2, 1): Cell(alive=False),\n",
       " (0, 2, 2): Cell(alive=False),\n",
       " (1, 0, 0): Cell(alive=True),\n",
       " (1, 0, 1): Cell(alive=True),\n",
       " (1, 0, 2): Cell(alive=False),\n",
       " (1, 1, 0): Cell(alive=False),\n",
       " (1, 1, 1): Cell(alive=False),\n",
       " (1, 1, 2): Cell(alive=False),\n",
       " (1, 2, 0): Cell(alive=True),\n",
       " (1, 2, 1): Cell(alive=True),\n",
       " (1, 2, 2): Cell(alive=False)}"
      ]
     },
     "execution_count": 115,
     "metadata": {},
     "output_type": "execute_result"
    }
   ],
   "source": [
    "hex.update()\n",
    "hex.grid"
   ]
  },
  {
   "cell_type": "code",
   "execution_count": 54,
   "metadata": {},
   "outputs": [],
   "source": [
    "from game_of_life import *\n",
    "from scipy.ndimage import convolve"
   ]
  },
  {
   "cell_type": "code",
   "execution_count": 3,
   "metadata": {},
   "outputs": [],
   "source": [
    "foo = HexLattice(4,4)"
   ]
  },
  {
   "cell_type": "code",
   "execution_count": 5,
   "metadata": {},
   "outputs": [
    {
     "data": {
      "text/plain": [
       "array([[[False, False, False, False],\n",
       "        [False,  True, False,  True],\n",
       "        [False, False, False,  True],\n",
       "        [False, False, False,  True]],\n",
       "\n",
       "       [[False,  True, False,  True],\n",
       "        [False, False, False, False],\n",
       "        [False, False,  True,  True],\n",
       "        [ True, False, False,  True]]])"
      ]
     },
     "execution_count": 5,
     "metadata": {},
     "output_type": "execute_result"
    }
   ],
   "source": [
    "foo.clear()\n",
    "foo.rnd_population()\n",
    "foo.get_states()"
   ]
  },
  {
   "cell_type": "code",
   "execution_count": 12,
   "metadata": {},
   "outputs": [
    {
     "data": {
      "text/plain": [
       "10"
      ]
     },
     "execution_count": 12,
     "metadata": {},
     "output_type": "execute_result"
    }
   ],
   "source": [
    "live_cells = 0\n",
    "for live in foo.get_alive():\n",
    "    live_cells += foo.grid[*live].get()\n",
    "live_cells"
   ]
  },
  {
   "cell_type": "code",
   "execution_count": 19,
   "metadata": {},
   "outputs": [
    {
     "data": {
      "text/plain": [
       "array([[0, 0, 0],\n",
       "       [1, 0, 1],\n",
       "       [0, 0, 0]])"
      ]
     },
     "execution_count": 19,
     "metadata": {},
     "output_type": "execute_result"
    }
   ],
   "source": [
    "foo.nbrhd_kernel[0]"
   ]
  },
  {
   "cell_type": "code",
   "execution_count": 20,
   "metadata": {},
   "outputs": [
    {
     "data": {
      "text/plain": [
       "array([[0, 1, 1],\n",
       "       [0, 0, 0],\n",
       "       [0, 1, 1]])"
      ]
     },
     "execution_count": 20,
     "metadata": {},
     "output_type": "execute_result"
    }
   ],
   "source": [
    "foo.nbrhd_kernel[1]"
   ]
  },
  {
   "cell_type": "code",
   "execution_count": 22,
   "metadata": {},
   "outputs": [
    {
     "data": {
      "text/plain": [
       "((1, 1, 2), (0, 1, 2), (0, 1, 1), (1, 1, 0), (0, 2, 1), (0, 2, 2))"
      ]
     },
     "execution_count": 22,
     "metadata": {},
     "output_type": "execute_result"
    }
   ],
   "source": [
    "np.array"
   ]
  },
  {
   "cell_type": "code",
   "execution_count": 16,
   "metadata": {},
   "outputs": [
    {
     "data": {
      "text/plain": [
       "22"
      ]
     },
     "execution_count": 16,
     "metadata": {},
     "output_type": "execute_result"
    }
   ],
   "source": [
    "dead_cells = 0\n",
    "for dead in foo.get_dead():\n",
    "    dead_cells += ~foo.grid[*dead].get()\n",
    "    \n",
    "\n",
    "dead_cells"
   ]
  },
  {
   "cell_type": "code",
   "execution_count": 28,
   "metadata": {},
   "outputs": [
    {
     "data": {
      "text/plain": [
       "((0, 1, 2), (1, 0, 1), (1, 0, 0), (0, 1, 0), (1, 1, 0), (1, 1, 1))"
      ]
     },
     "execution_count": 28,
     "metadata": {},
     "output_type": "execute_result"
    }
   ],
   "source": [
    "foo.get_neighbours((0,1,1))"
   ]
  },
  {
   "cell_type": "code",
   "execution_count": 27,
   "metadata": {},
   "outputs": [
    {
     "data": {
      "text/plain": [
       "((1, 1, 2), (0, 1, 2), (0, 1, 1), (1, 1, 0), (0, 2, 1), (0, 2, 2))"
      ]
     },
     "execution_count": 27,
     "metadata": {},
     "output_type": "execute_result"
    }
   ],
   "source": [
    "foo.get_neighbours((1,1,1))"
   ]
  },
  {
   "cell_type": "code",
   "execution_count": 29,
   "metadata": {},
   "outputs": [
    {
     "data": {
      "text/plain": [
       "(2, 4, 4)"
      ]
     },
     "execution_count": 29,
     "metadata": {},
     "output_type": "execute_result"
    }
   ],
   "source": [
    "foo.get_states().shape"
   ]
  },
  {
   "cell_type": "code",
   "execution_count": 39,
   "metadata": {},
   "outputs": [
    {
     "data": {
      "text/plain": [
       "array([[21, 22, 23],\n",
       "       [31, 32, 33],\n",
       "       [11, 12, 13]])"
      ]
     },
     "execution_count": 39,
     "metadata": {},
     "output_type": "execute_result"
    }
   ],
   "source": [
    "bar = np.array([[11,12,13],[21,22,23],[31,32,33]])\n",
    "np.roll(bar,shift=[-1,0],axis=(0,1)) # swipe up to down"
   ]
  },
  {
   "cell_type": "code",
   "execution_count": 38,
   "metadata": {},
   "outputs": [
    {
     "data": {
      "text/plain": [
       "array([[12, 13, 11],\n",
       "       [22, 23, 21],\n",
       "       [32, 33, 31]])"
      ]
     },
     "execution_count": 38,
     "metadata": {},
     "output_type": "execute_result"
    }
   ],
   "source": [
    "np.roll(bar,shift=[0,-1],axis=(0,1)) # swipe right to left"
   ]
  },
  {
   "cell_type": "code",
   "execution_count": null,
   "metadata": {},
   "outputs": [],
   "source": [
    "\n",
    "\n",
    "foo.rnd_population()\n",
    "current = foo.get_states().astype(int)\n",
    "live_nbrs = convolve(current, foo.nbrhd_kernel, mode=\"wrap\")"
   ]
  },
  {
   "cell_type": "code",
   "execution_count": 4,
   "metadata": {},
   "outputs": [],
   "source": [
    "underpopulation = np.where( (live_nbrs < 2) & foo.get_states() ) # dies\n",
    "overpopulation = np.where( (live_nbrs > 3) & foo.get_states() ) # dies\n",
    "stable = np.where( ( (live_nbrs == 2) | (live_nbrs == 3) ) & foo.get_states() ) # survives\n",
    "reborn = np.where((live_nbrs == 3) & ( ~foo.get_states() ) ) # birth"
   ]
  },
  {
   "cell_type": "code",
   "execution_count": 16,
   "metadata": {},
   "outputs": [
    {
     "data": {
      "text/plain": [
       "{(0, 0, 0): Cell(alive=True),\n",
       " (0, 0, 1): Cell(alive=True),\n",
       " (0, 0, 2): Cell(alive=False),\n",
       " (0, 0, 3): Cell(alive=True),\n",
       " (0, 0, 4): Cell(alive=False),\n",
       " (0, 0, 5): Cell(alive=True),\n",
       " (0, 0, 6): Cell(alive=True),\n",
       " (0, 0, 7): Cell(alive=True),\n",
       " (0, 0, 8): Cell(alive=False),\n",
       " (0, 0, 9): Cell(alive=False),\n",
       " (0, 0, 10): Cell(alive=False),\n",
       " (0, 0, 11): Cell(alive=False),\n",
       " (0, 0, 12): Cell(alive=False),\n",
       " (0, 0, 13): Cell(alive=False),\n",
       " (0, 0, 14): Cell(alive=False),\n",
       " (0, 0, 15): Cell(alive=False),\n",
       " (0, 0, 16): Cell(alive=False),\n",
       " (0, 0, 17): Cell(alive=False),\n",
       " (0, 0, 18): Cell(alive=True),\n",
       " (0, 0, 19): Cell(alive=False),\n",
       " (0, 1, 0): Cell(alive=False),\n",
       " (0, 1, 1): Cell(alive=False),\n",
       " (0, 1, 2): Cell(alive=True),\n",
       " (0, 1, 3): Cell(alive=False),\n",
       " (0, 1, 4): Cell(alive=True),\n",
       " (0, 1, 5): Cell(alive=False),\n",
       " (0, 1, 6): Cell(alive=False),\n",
       " (0, 1, 7): Cell(alive=False),\n",
       " (0, 1, 8): Cell(alive=False),\n",
       " (0, 1, 9): Cell(alive=True),\n",
       " (0, 1, 10): Cell(alive=True),\n",
       " (0, 1, 11): Cell(alive=False),\n",
       " (0, 1, 12): Cell(alive=True),\n",
       " (0, 1, 13): Cell(alive=True),\n",
       " (0, 1, 14): Cell(alive=True),\n",
       " (0, 1, 15): Cell(alive=False),\n",
       " (0, 1, 16): Cell(alive=True),\n",
       " (0, 1, 17): Cell(alive=False),\n",
       " (0, 1, 18): Cell(alive=False),\n",
       " (0, 1, 19): Cell(alive=False),\n",
       " (0, 2, 0): Cell(alive=False),\n",
       " (0, 2, 1): Cell(alive=False),\n",
       " (0, 2, 2): Cell(alive=False),\n",
       " (0, 2, 3): Cell(alive=False),\n",
       " (0, 2, 4): Cell(alive=False),\n",
       " (0, 2, 5): Cell(alive=False),\n",
       " (0, 2, 6): Cell(alive=True),\n",
       " (0, 2, 7): Cell(alive=False),\n",
       " (0, 2, 8): Cell(alive=True),\n",
       " (0, 2, 9): Cell(alive=False),\n",
       " (0, 2, 10): Cell(alive=False),\n",
       " (0, 2, 11): Cell(alive=False),\n",
       " (0, 2, 12): Cell(alive=False),\n",
       " (0, 2, 13): Cell(alive=True),\n",
       " (0, 2, 14): Cell(alive=False),\n",
       " (0, 2, 15): Cell(alive=False),\n",
       " (0, 2, 16): Cell(alive=False),\n",
       " (0, 2, 17): Cell(alive=True),\n",
       " (0, 2, 18): Cell(alive=True),\n",
       " (0, 2, 19): Cell(alive=False),\n",
       " (0, 3, 0): Cell(alive=False),\n",
       " (0, 3, 1): Cell(alive=True),\n",
       " (0, 3, 2): Cell(alive=True),\n",
       " (0, 3, 3): Cell(alive=False),\n",
       " (0, 3, 4): Cell(alive=False),\n",
       " (0, 3, 5): Cell(alive=False),\n",
       " (0, 3, 6): Cell(alive=False),\n",
       " (0, 3, 7): Cell(alive=False),\n",
       " (0, 3, 8): Cell(alive=True),\n",
       " (0, 3, 9): Cell(alive=False),\n",
       " (0, 3, 10): Cell(alive=True),\n",
       " (0, 3, 11): Cell(alive=False),\n",
       " (0, 3, 12): Cell(alive=True),\n",
       " (0, 3, 13): Cell(alive=True),\n",
       " (0, 3, 14): Cell(alive=False),\n",
       " (0, 3, 15): Cell(alive=False),\n",
       " (0, 3, 16): Cell(alive=False),\n",
       " (0, 3, 17): Cell(alive=True),\n",
       " (0, 3, 18): Cell(alive=True),\n",
       " (0, 3, 19): Cell(alive=False),\n",
       " (0, 4, 0): Cell(alive=True),\n",
       " (0, 4, 1): Cell(alive=False),\n",
       " (0, 4, 2): Cell(alive=False),\n",
       " (0, 4, 3): Cell(alive=True),\n",
       " (0, 4, 4): Cell(alive=False),\n",
       " (0, 4, 5): Cell(alive=False),\n",
       " (0, 4, 6): Cell(alive=True),\n",
       " (0, 4, 7): Cell(alive=True),\n",
       " (0, 4, 8): Cell(alive=False),\n",
       " (0, 4, 9): Cell(alive=False),\n",
       " (0, 4, 10): Cell(alive=False),\n",
       " (0, 4, 11): Cell(alive=True),\n",
       " (0, 4, 12): Cell(alive=False),\n",
       " (0, 4, 13): Cell(alive=False),\n",
       " (0, 4, 14): Cell(alive=False),\n",
       " (0, 4, 15): Cell(alive=False),\n",
       " (0, 4, 16): Cell(alive=False),\n",
       " (0, 4, 17): Cell(alive=False),\n",
       " (0, 4, 18): Cell(alive=False),\n",
       " (0, 4, 19): Cell(alive=False),\n",
       " (0, 5, 0): Cell(alive=False),\n",
       " (0, 5, 1): Cell(alive=False),\n",
       " (0, 5, 2): Cell(alive=True),\n",
       " (0, 5, 3): Cell(alive=True),\n",
       " (0, 5, 4): Cell(alive=False),\n",
       " (0, 5, 5): Cell(alive=True),\n",
       " (0, 5, 6): Cell(alive=True),\n",
       " (0, 5, 7): Cell(alive=False),\n",
       " (0, 5, 8): Cell(alive=False),\n",
       " (0, 5, 9): Cell(alive=False),\n",
       " (0, 5, 10): Cell(alive=False),\n",
       " (0, 5, 11): Cell(alive=False),\n",
       " (0, 5, 12): Cell(alive=False),\n",
       " (0, 5, 13): Cell(alive=False),\n",
       " (0, 5, 14): Cell(alive=False),\n",
       " (0, 5, 15): Cell(alive=False),\n",
       " (0, 5, 16): Cell(alive=True),\n",
       " (0, 5, 17): Cell(alive=False),\n",
       " (0, 5, 18): Cell(alive=False),\n",
       " (0, 5, 19): Cell(alive=False),\n",
       " (0, 6, 0): Cell(alive=False),\n",
       " (0, 6, 1): Cell(alive=False),\n",
       " (0, 6, 2): Cell(alive=False),\n",
       " (0, 6, 3): Cell(alive=False),\n",
       " (0, 6, 4): Cell(alive=False),\n",
       " (0, 6, 5): Cell(alive=True),\n",
       " (0, 6, 6): Cell(alive=False),\n",
       " (0, 6, 7): Cell(alive=False),\n",
       " (0, 6, 8): Cell(alive=False),\n",
       " (0, 6, 9): Cell(alive=False),\n",
       " (0, 6, 10): Cell(alive=True),\n",
       " (0, 6, 11): Cell(alive=False),\n",
       " (0, 6, 12): Cell(alive=True),\n",
       " (0, 6, 13): Cell(alive=False),\n",
       " (0, 6, 14): Cell(alive=False),\n",
       " (0, 6, 15): Cell(alive=True),\n",
       " (0, 6, 16): Cell(alive=False),\n",
       " (0, 6, 17): Cell(alive=False),\n",
       " (0, 6, 18): Cell(alive=False),\n",
       " (0, 6, 19): Cell(alive=False),\n",
       " (0, 7, 0): Cell(alive=False),\n",
       " (0, 7, 1): Cell(alive=False),\n",
       " (0, 7, 2): Cell(alive=False),\n",
       " (0, 7, 3): Cell(alive=True),\n",
       " (0, 7, 4): Cell(alive=False),\n",
       " (0, 7, 5): Cell(alive=False),\n",
       " (0, 7, 6): Cell(alive=True),\n",
       " (0, 7, 7): Cell(alive=False),\n",
       " (0, 7, 8): Cell(alive=True),\n",
       " (0, 7, 9): Cell(alive=False),\n",
       " (0, 7, 10): Cell(alive=False),\n",
       " (0, 7, 11): Cell(alive=False),\n",
       " (0, 7, 12): Cell(alive=False),\n",
       " (0, 7, 13): Cell(alive=False),\n",
       " (0, 7, 14): Cell(alive=False),\n",
       " (0, 7, 15): Cell(alive=True),\n",
       " (0, 7, 16): Cell(alive=True),\n",
       " (0, 7, 17): Cell(alive=True),\n",
       " (0, 7, 18): Cell(alive=False),\n",
       " (0, 7, 19): Cell(alive=True),\n",
       " (0, 8, 0): Cell(alive=False),\n",
       " (0, 8, 1): Cell(alive=True),\n",
       " (0, 8, 2): Cell(alive=False),\n",
       " (0, 8, 3): Cell(alive=False),\n",
       " (0, 8, 4): Cell(alive=False),\n",
       " (0, 8, 5): Cell(alive=True),\n",
       " (0, 8, 6): Cell(alive=False),\n",
       " (0, 8, 7): Cell(alive=False),\n",
       " (0, 8, 8): Cell(alive=False),\n",
       " (0, 8, 9): Cell(alive=False),\n",
       " (0, 8, 10): Cell(alive=True),\n",
       " (0, 8, 11): Cell(alive=False),\n",
       " (0, 8, 12): Cell(alive=True),\n",
       " (0, 8, 13): Cell(alive=False),\n",
       " (0, 8, 14): Cell(alive=False),\n",
       " (0, 8, 15): Cell(alive=False),\n",
       " (0, 8, 16): Cell(alive=False),\n",
       " (0, 8, 17): Cell(alive=False),\n",
       " (0, 8, 18): Cell(alive=False),\n",
       " (0, 8, 19): Cell(alive=False),\n",
       " (0, 9, 0): Cell(alive=False),\n",
       " (0, 9, 1): Cell(alive=False),\n",
       " (0, 9, 2): Cell(alive=False),\n",
       " (0, 9, 3): Cell(alive=False),\n",
       " (0, 9, 4): Cell(alive=False),\n",
       " (0, 9, 5): Cell(alive=False),\n",
       " (0, 9, 6): Cell(alive=True),\n",
       " (0, 9, 7): Cell(alive=True),\n",
       " (0, 9, 8): Cell(alive=False),\n",
       " (0, 9, 9): Cell(alive=True),\n",
       " (0, 9, 10): Cell(alive=False),\n",
       " (0, 9, 11): Cell(alive=True),\n",
       " (0, 9, 12): Cell(alive=False),\n",
       " (0, 9, 13): Cell(alive=False),\n",
       " (0, 9, 14): Cell(alive=False),\n",
       " (0, 9, 15): Cell(alive=False),\n",
       " (0, 9, 16): Cell(alive=False),\n",
       " (0, 9, 17): Cell(alive=False),\n",
       " (0, 9, 18): Cell(alive=False),\n",
       " (0, 9, 19): Cell(alive=True),\n",
       " (0, 10, 0): Cell(alive=False),\n",
       " (0, 10, 1): Cell(alive=True),\n",
       " (0, 10, 2): Cell(alive=False),\n",
       " (0, 10, 3): Cell(alive=True),\n",
       " (0, 10, 4): Cell(alive=False),\n",
       " (0, 10, 5): Cell(alive=False),\n",
       " (0, 10, 6): Cell(alive=False),\n",
       " (0, 10, 7): Cell(alive=False),\n",
       " (0, 10, 8): Cell(alive=False),\n",
       " (0, 10, 9): Cell(alive=False),\n",
       " (0, 10, 10): Cell(alive=False),\n",
       " (0, 10, 11): Cell(alive=False),\n",
       " (0, 10, 12): Cell(alive=True),\n",
       " (0, 10, 13): Cell(alive=True),\n",
       " (0, 10, 14): Cell(alive=False),\n",
       " (0, 10, 15): Cell(alive=True),\n",
       " (0, 10, 16): Cell(alive=False),\n",
       " (0, 10, 17): Cell(alive=True),\n",
       " (0, 10, 18): Cell(alive=True),\n",
       " (0, 10, 19): Cell(alive=False),\n",
       " (0, 11, 0): Cell(alive=False),\n",
       " (0, 11, 1): Cell(alive=False),\n",
       " (0, 11, 2): Cell(alive=True),\n",
       " (0, 11, 3): Cell(alive=True),\n",
       " (0, 11, 4): Cell(alive=True),\n",
       " (0, 11, 5): Cell(alive=False),\n",
       " (0, 11, 6): Cell(alive=True),\n",
       " (0, 11, 7): Cell(alive=True),\n",
       " (0, 11, 8): Cell(alive=False),\n",
       " (0, 11, 9): Cell(alive=True),\n",
       " (0, 11, 10): Cell(alive=True),\n",
       " (0, 11, 11): Cell(alive=False),\n",
       " (0, 11, 12): Cell(alive=False),\n",
       " (0, 11, 13): Cell(alive=False),\n",
       " (0, 11, 14): Cell(alive=False),\n",
       " (0, 11, 15): Cell(alive=False),\n",
       " (0, 11, 16): Cell(alive=True),\n",
       " (0, 11, 17): Cell(alive=False),\n",
       " (0, 11, 18): Cell(alive=True),\n",
       " (0, 11, 19): Cell(alive=True),\n",
       " (0, 12, 0): Cell(alive=True),\n",
       " (0, 12, 1): Cell(alive=False),\n",
       " (0, 12, 2): Cell(alive=False),\n",
       " (0, 12, 3): Cell(alive=False),\n",
       " (0, 12, 4): Cell(alive=False),\n",
       " (0, 12, 5): Cell(alive=False),\n",
       " (0, 12, 6): Cell(alive=True),\n",
       " (0, 12, 7): Cell(alive=False),\n",
       " (0, 12, 8): Cell(alive=True),\n",
       " (0, 12, 9): Cell(alive=False),\n",
       " (0, 12, 10): Cell(alive=False),\n",
       " (0, 12, 11): Cell(alive=False),\n",
       " (0, 12, 12): Cell(alive=False),\n",
       " (0, 12, 13): Cell(alive=False),\n",
       " (0, 12, 14): Cell(alive=True),\n",
       " (0, 12, 15): Cell(alive=False),\n",
       " (0, 12, 16): Cell(alive=True),\n",
       " (0, 12, 17): Cell(alive=True),\n",
       " (0, 12, 18): Cell(alive=False),\n",
       " (0, 12, 19): Cell(alive=False),\n",
       " (0, 13, 0): Cell(alive=False),\n",
       " (0, 13, 1): Cell(alive=True),\n",
       " (0, 13, 2): Cell(alive=True),\n",
       " (0, 13, 3): Cell(alive=True),\n",
       " (0, 13, 4): Cell(alive=False),\n",
       " (0, 13, 5): Cell(alive=True),\n",
       " (0, 13, 6): Cell(alive=False),\n",
       " (0, 13, 7): Cell(alive=False),\n",
       " (0, 13, 8): Cell(alive=False),\n",
       " (0, 13, 9): Cell(alive=False),\n",
       " (0, 13, 10): Cell(alive=False),\n",
       " (0, 13, 11): Cell(alive=True),\n",
       " (0, 13, 12): Cell(alive=False),\n",
       " (0, 13, 13): Cell(alive=False),\n",
       " (0, 13, 14): Cell(alive=True),\n",
       " (0, 13, 15): Cell(alive=False),\n",
       " (0, 13, 16): Cell(alive=True),\n",
       " (0, 13, 17): Cell(alive=False),\n",
       " (0, 13, 18): Cell(alive=True),\n",
       " (0, 13, 19): Cell(alive=True),\n",
       " (0, 14, 0): Cell(alive=False),\n",
       " (0, 14, 1): Cell(alive=True),\n",
       " (0, 14, 2): Cell(alive=True),\n",
       " (0, 14, 3): Cell(alive=True),\n",
       " (0, 14, 4): Cell(alive=False),\n",
       " (0, 14, 5): Cell(alive=False),\n",
       " (0, 14, 6): Cell(alive=True),\n",
       " (0, 14, 7): Cell(alive=False),\n",
       " (0, 14, 8): Cell(alive=True),\n",
       " (0, 14, 9): Cell(alive=True),\n",
       " (0, 14, 10): Cell(alive=False),\n",
       " (0, 14, 11): Cell(alive=True),\n",
       " (0, 14, 12): Cell(alive=False),\n",
       " (0, 14, 13): Cell(alive=True),\n",
       " (0, 14, 14): Cell(alive=False),\n",
       " (0, 14, 15): Cell(alive=True),\n",
       " (0, 14, 16): Cell(alive=False),\n",
       " (0, 14, 17): Cell(alive=False),\n",
       " (0, 14, 18): Cell(alive=True),\n",
       " (0, 14, 19): Cell(alive=False),\n",
       " (0, 15, 0): Cell(alive=False),\n",
       " (0, 15, 1): Cell(alive=True),\n",
       " (0, 15, 2): Cell(alive=True),\n",
       " (0, 15, 3): Cell(alive=False),\n",
       " (0, 15, 4): Cell(alive=True),\n",
       " (0, 15, 5): Cell(alive=False),\n",
       " (0, 15, 6): Cell(alive=False),\n",
       " (0, 15, 7): Cell(alive=False),\n",
       " (0, 15, 8): Cell(alive=True),\n",
       " (0, 15, 9): Cell(alive=True),\n",
       " (0, 15, 10): Cell(alive=False),\n",
       " (0, 15, 11): Cell(alive=False),\n",
       " (0, 15, 12): Cell(alive=False),\n",
       " (0, 15, 13): Cell(alive=False),\n",
       " (0, 15, 14): Cell(alive=False),\n",
       " (0, 15, 15): Cell(alive=False),\n",
       " (0, 15, 16): Cell(alive=False),\n",
       " (0, 15, 17): Cell(alive=False),\n",
       " (0, 15, 18): Cell(alive=False),\n",
       " (0, 15, 19): Cell(alive=False),\n",
       " (0, 16, 0): Cell(alive=True),\n",
       " (0, 16, 1): Cell(alive=False),\n",
       " (0, 16, 2): Cell(alive=False),\n",
       " (0, 16, 3): Cell(alive=False),\n",
       " (0, 16, 4): Cell(alive=False),\n",
       " (0, 16, 5): Cell(alive=False),\n",
       " (0, 16, 6): Cell(alive=True),\n",
       " (0, 16, 7): Cell(alive=False),\n",
       " (0, 16, 8): Cell(alive=False),\n",
       " (0, 16, 9): Cell(alive=False),\n",
       " (0, 16, 10): Cell(alive=False),\n",
       " (0, 16, 11): Cell(alive=False),\n",
       " (0, 16, 12): Cell(alive=False),\n",
       " (0, 16, 13): Cell(alive=True),\n",
       " (0, 16, 14): Cell(alive=False),\n",
       " (0, 16, 15): Cell(alive=False),\n",
       " (0, 16, 16): Cell(alive=False),\n",
       " (0, 16, 17): Cell(alive=True),\n",
       " (0, 16, 18): Cell(alive=False),\n",
       " (0, 16, 19): Cell(alive=False),\n",
       " (0, 17, 0): Cell(alive=True),\n",
       " (0, 17, 1): Cell(alive=False),\n",
       " (0, 17, 2): Cell(alive=False),\n",
       " (0, 17, 3): Cell(alive=False),\n",
       " (0, 17, 4): Cell(alive=False),\n",
       " (0, 17, 5): Cell(alive=False),\n",
       " (0, 17, 6): Cell(alive=True),\n",
       " (0, 17, 7): Cell(alive=False),\n",
       " (0, 17, 8): Cell(alive=False),\n",
       " (0, 17, 9): Cell(alive=False),\n",
       " (0, 17, 10): Cell(alive=False),\n",
       " (0, 17, 11): Cell(alive=False),\n",
       " (0, 17, 12): Cell(alive=False),\n",
       " (0, 17, 13): Cell(alive=True),\n",
       " (0, 17, 14): Cell(alive=True),\n",
       " (0, 17, 15): Cell(alive=True),\n",
       " (0, 17, 16): Cell(alive=False),\n",
       " (0, 17, 17): Cell(alive=True),\n",
       " (0, 17, 18): Cell(alive=False),\n",
       " (0, 17, 19): Cell(alive=False),\n",
       " (0, 18, 0): Cell(alive=True),\n",
       " (0, 18, 1): Cell(alive=True),\n",
       " (0, 18, 2): Cell(alive=False),\n",
       " (0, 18, 3): Cell(alive=True),\n",
       " (0, 18, 4): Cell(alive=False),\n",
       " (0, 18, 5): Cell(alive=False),\n",
       " (0, 18, 6): Cell(alive=False),\n",
       " (0, 18, 7): Cell(alive=False),\n",
       " (0, 18, 8): Cell(alive=False),\n",
       " (0, 18, 9): Cell(alive=False),\n",
       " (0, 18, 10): Cell(alive=False),\n",
       " (0, 18, 11): Cell(alive=False),\n",
       " (0, 18, 12): Cell(alive=False),\n",
       " (0, 18, 13): Cell(alive=False),\n",
       " (0, 18, 14): Cell(alive=True),\n",
       " (0, 18, 15): Cell(alive=False),\n",
       " (0, 18, 16): Cell(alive=False),\n",
       " (0, 18, 17): Cell(alive=False),\n",
       " (0, 18, 18): Cell(alive=False),\n",
       " (0, 18, 19): Cell(alive=False),\n",
       " (0, 19, 0): Cell(alive=True),\n",
       " (0, 19, 1): Cell(alive=False),\n",
       " (0, 19, 2): Cell(alive=False),\n",
       " (0, 19, 3): Cell(alive=True),\n",
       " (0, 19, 4): Cell(alive=True),\n",
       " (0, 19, 5): Cell(alive=False),\n",
       " (0, 19, 6): Cell(alive=False),\n",
       " (0, 19, 7): Cell(alive=False),\n",
       " (0, 19, 8): Cell(alive=False),\n",
       " (0, 19, 9): Cell(alive=False),\n",
       " (0, 19, 10): Cell(alive=False),\n",
       " (0, 19, 11): Cell(alive=True),\n",
       " (0, 19, 12): Cell(alive=False),\n",
       " (0, 19, 13): Cell(alive=False),\n",
       " (0, 19, 14): Cell(alive=True),\n",
       " (0, 19, 15): Cell(alive=True),\n",
       " (0, 19, 16): Cell(alive=True),\n",
       " (0, 19, 17): Cell(alive=True),\n",
       " (0, 19, 18): Cell(alive=False),\n",
       " (0, 19, 19): Cell(alive=False),\n",
       " (1, 0, 0): Cell(alive=False),\n",
       " (1, 0, 1): Cell(alive=True),\n",
       " (1, 0, 2): Cell(alive=False),\n",
       " (1, 0, 3): Cell(alive=False),\n",
       " (1, 0, 4): Cell(alive=False),\n",
       " (1, 0, 5): Cell(alive=False),\n",
       " (1, 0, 6): Cell(alive=False),\n",
       " (1, 0, 7): Cell(alive=True),\n",
       " (1, 0, 8): Cell(alive=True),\n",
       " (1, 0, 9): Cell(alive=False),\n",
       " (1, 0, 10): Cell(alive=False),\n",
       " (1, 0, 11): Cell(alive=True),\n",
       " (1, 0, 12): Cell(alive=False),\n",
       " (1, 0, 13): Cell(alive=True),\n",
       " (1, 0, 14): Cell(alive=False),\n",
       " (1, 0, 15): Cell(alive=False),\n",
       " (1, 0, 16): Cell(alive=False),\n",
       " (1, 0, 17): Cell(alive=False),\n",
       " (1, 0, 18): Cell(alive=False),\n",
       " (1, 0, 19): Cell(alive=False),\n",
       " (1, 1, 0): Cell(alive=False),\n",
       " (1, 1, 1): Cell(alive=False),\n",
       " (1, 1, 2): Cell(alive=False),\n",
       " (1, 1, 3): Cell(alive=False),\n",
       " (1, 1, 4): Cell(alive=False),\n",
       " (1, 1, 5): Cell(alive=False),\n",
       " (1, 1, 6): Cell(alive=False),\n",
       " (1, 1, 7): Cell(alive=False),\n",
       " (1, 1, 8): Cell(alive=False),\n",
       " (1, 1, 9): Cell(alive=False),\n",
       " (1, 1, 10): Cell(alive=False),\n",
       " (1, 1, 11): Cell(alive=False),\n",
       " (1, 1, 12): Cell(alive=False),\n",
       " (1, 1, 13): Cell(alive=True),\n",
       " (1, 1, 14): Cell(alive=True),\n",
       " (1, 1, 15): Cell(alive=False),\n",
       " (1, 1, 16): Cell(alive=False),\n",
       " (1, 1, 17): Cell(alive=False),\n",
       " (1, 1, 18): Cell(alive=True),\n",
       " (1, 1, 19): Cell(alive=False),\n",
       " (1, 2, 0): Cell(alive=False),\n",
       " (1, 2, 1): Cell(alive=False),\n",
       " (1, 2, 2): Cell(alive=False),\n",
       " (1, 2, 3): Cell(alive=False),\n",
       " (1, 2, 4): Cell(alive=True),\n",
       " (1, 2, 5): Cell(alive=False),\n",
       " (1, 2, 6): Cell(alive=True),\n",
       " (1, 2, 7): Cell(alive=False),\n",
       " (1, 2, 8): Cell(alive=False),\n",
       " (1, 2, 9): Cell(alive=True),\n",
       " (1, 2, 10): Cell(alive=False),\n",
       " (1, 2, 11): Cell(alive=False),\n",
       " (1, 2, 12): Cell(alive=False),\n",
       " (1, 2, 13): Cell(alive=False),\n",
       " (1, 2, 14): Cell(alive=False),\n",
       " (1, 2, 15): Cell(alive=False),\n",
       " (1, 2, 16): Cell(alive=False),\n",
       " (1, 2, 17): Cell(alive=False),\n",
       " (1, 2, 18): Cell(alive=False),\n",
       " (1, 2, 19): Cell(alive=True),\n",
       " (1, 3, 0): Cell(alive=False),\n",
       " (1, 3, 1): Cell(alive=False),\n",
       " (1, 3, 2): Cell(alive=False),\n",
       " (1, 3, 3): Cell(alive=True),\n",
       " (1, 3, 4): Cell(alive=True),\n",
       " (1, 3, 5): Cell(alive=False),\n",
       " (1, 3, 6): Cell(alive=False),\n",
       " (1, 3, 7): Cell(alive=False),\n",
       " (1, 3, 8): Cell(alive=True),\n",
       " (1, 3, 9): Cell(alive=False),\n",
       " (1, 3, 10): Cell(alive=True),\n",
       " (1, 3, 11): Cell(alive=False),\n",
       " (1, 3, 12): Cell(alive=True),\n",
       " (1, 3, 13): Cell(alive=False),\n",
       " (1, 3, 14): Cell(alive=False),\n",
       " (1, 3, 15): Cell(alive=False),\n",
       " (1, 3, 16): Cell(alive=True),\n",
       " (1, 3, 17): Cell(alive=True),\n",
       " (1, 3, 18): Cell(alive=False),\n",
       " (1, 3, 19): Cell(alive=False),\n",
       " (1, 4, 0): Cell(alive=True),\n",
       " (1, 4, 1): Cell(alive=True),\n",
       " (1, 4, 2): Cell(alive=True),\n",
       " (1, 4, 3): Cell(alive=True),\n",
       " (1, 4, 4): Cell(alive=True),\n",
       " (1, 4, 5): Cell(alive=False),\n",
       " (1, 4, 6): Cell(alive=False),\n",
       " (1, 4, 7): Cell(alive=False),\n",
       " (1, 4, 8): Cell(alive=True),\n",
       " (1, 4, 9): Cell(alive=False),\n",
       " (1, 4, 10): Cell(alive=False),\n",
       " (1, 4, 11): Cell(alive=False),\n",
       " (1, 4, 12): Cell(alive=False),\n",
       " (1, 4, 13): Cell(alive=False),\n",
       " (1, 4, 14): Cell(alive=False),\n",
       " (1, 4, 15): Cell(alive=False),\n",
       " (1, 4, 16): Cell(alive=False),\n",
       " (1, 4, 17): Cell(alive=True),\n",
       " (1, 4, 18): Cell(alive=False),\n",
       " (1, 4, 19): Cell(alive=False),\n",
       " (1, 5, 0): Cell(alive=False),\n",
       " (1, 5, 1): Cell(alive=False),\n",
       " (1, 5, 2): Cell(alive=True),\n",
       " (1, 5, 3): Cell(alive=True),\n",
       " (1, 5, 4): Cell(alive=False),\n",
       " (1, 5, 5): Cell(alive=False),\n",
       " (1, 5, 6): Cell(alive=True),\n",
       " (1, 5, 7): Cell(alive=False),\n",
       " (1, 5, 8): Cell(alive=True),\n",
       " (1, 5, 9): Cell(alive=True),\n",
       " (1, 5, 10): Cell(alive=False),\n",
       " (1, 5, 11): Cell(alive=True),\n",
       " (1, 5, 12): Cell(alive=False),\n",
       " (1, 5, 13): Cell(alive=False),\n",
       " (1, 5, 14): Cell(alive=False),\n",
       " (1, 5, 15): Cell(alive=True),\n",
       " (1, 5, 16): Cell(alive=False),\n",
       " (1, 5, 17): Cell(alive=False),\n",
       " (1, 5, 18): Cell(alive=True),\n",
       " (1, 5, 19): Cell(alive=True),\n",
       " (1, 6, 0): Cell(alive=True),\n",
       " (1, 6, 1): Cell(alive=False),\n",
       " (1, 6, 2): Cell(alive=False),\n",
       " (1, 6, 3): Cell(alive=False),\n",
       " (1, 6, 4): Cell(alive=True),\n",
       " (1, 6, 5): Cell(alive=False),\n",
       " (1, 6, 6): Cell(alive=False),\n",
       " (1, 6, 7): Cell(alive=True),\n",
       " (1, 6, 8): Cell(alive=True),\n",
       " (1, 6, 9): Cell(alive=False),\n",
       " (1, 6, 10): Cell(alive=True),\n",
       " (1, 6, 11): Cell(alive=False),\n",
       " (1, 6, 12): Cell(alive=False),\n",
       " (1, 6, 13): Cell(alive=True),\n",
       " (1, 6, 14): Cell(alive=False),\n",
       " (1, 6, 15): Cell(alive=True),\n",
       " (1, 6, 16): Cell(alive=False),\n",
       " (1, 6, 17): Cell(alive=False),\n",
       " (1, 6, 18): Cell(alive=True),\n",
       " (1, 6, 19): Cell(alive=False),\n",
       " (1, 7, 0): Cell(alive=True),\n",
       " (1, 7, 1): Cell(alive=True),\n",
       " (1, 7, 2): Cell(alive=False),\n",
       " (1, 7, 3): Cell(alive=True),\n",
       " (1, 7, 4): Cell(alive=True),\n",
       " (1, 7, 5): Cell(alive=False),\n",
       " (1, 7, 6): Cell(alive=False),\n",
       " (1, 7, 7): Cell(alive=True),\n",
       " (1, 7, 8): Cell(alive=False),\n",
       " (1, 7, 9): Cell(alive=False),\n",
       " (1, 7, 10): Cell(alive=False),\n",
       " (1, 7, 11): Cell(alive=False),\n",
       " (1, 7, 12): Cell(alive=False),\n",
       " (1, 7, 13): Cell(alive=True),\n",
       " (1, 7, 14): Cell(alive=False),\n",
       " (1, 7, 15): Cell(alive=False),\n",
       " (1, 7, 16): Cell(alive=False),\n",
       " (1, 7, 17): Cell(alive=True),\n",
       " (1, 7, 18): Cell(alive=True),\n",
       " (1, 7, 19): Cell(alive=True),\n",
       " (1, 8, 0): Cell(alive=False),\n",
       " (1, 8, 1): Cell(alive=False),\n",
       " (1, 8, 2): Cell(alive=False),\n",
       " (1, 8, 3): Cell(alive=False),\n",
       " (1, 8, 4): Cell(alive=False),\n",
       " (1, 8, 5): Cell(alive=True),\n",
       " (1, 8, 6): Cell(alive=True),\n",
       " (1, 8, 7): Cell(alive=True),\n",
       " (1, 8, 8): Cell(alive=False),\n",
       " (1, 8, 9): Cell(alive=True),\n",
       " (1, 8, 10): Cell(alive=True),\n",
       " (1, 8, 11): Cell(alive=False),\n",
       " (1, 8, 12): Cell(alive=False),\n",
       " (1, 8, 13): Cell(alive=True),\n",
       " (1, 8, 14): Cell(alive=True),\n",
       " (1, 8, 15): Cell(alive=False),\n",
       " (1, 8, 16): Cell(alive=False),\n",
       " (1, 8, 17): Cell(alive=False),\n",
       " (1, 8, 18): Cell(alive=False),\n",
       " (1, 8, 19): Cell(alive=True),\n",
       " (1, 9, 0): Cell(alive=False),\n",
       " (1, 9, 1): Cell(alive=False),\n",
       " (1, 9, 2): Cell(alive=True),\n",
       " (1, 9, 3): Cell(alive=False),\n",
       " (1, 9, 4): Cell(alive=True),\n",
       " (1, 9, 5): Cell(alive=False),\n",
       " (1, 9, 6): Cell(alive=False),\n",
       " (1, 9, 7): Cell(alive=False),\n",
       " (1, 9, 8): Cell(alive=False),\n",
       " (1, 9, 9): Cell(alive=False),\n",
       " (1, 9, 10): Cell(alive=True),\n",
       " (1, 9, 11): Cell(alive=False),\n",
       " (1, 9, 12): Cell(alive=False),\n",
       " (1, 9, 13): Cell(alive=False),\n",
       " (1, 9, 14): Cell(alive=False),\n",
       " (1, 9, 15): Cell(alive=True),\n",
       " (1, 9, 16): Cell(alive=True),\n",
       " (1, 9, 17): Cell(alive=False),\n",
       " (1, 9, 18): Cell(alive=True),\n",
       " (1, 9, 19): Cell(alive=True),\n",
       " (1, 10, 0): Cell(alive=False),\n",
       " (1, 10, 1): Cell(alive=True),\n",
       " (1, 10, 2): Cell(alive=False),\n",
       " (1, 10, 3): Cell(alive=False),\n",
       " (1, 10, 4): Cell(alive=False),\n",
       " (1, 10, 5): Cell(alive=True),\n",
       " (1, 10, 6): Cell(alive=False),\n",
       " (1, 10, 7): Cell(alive=False),\n",
       " (1, 10, 8): Cell(alive=False),\n",
       " (1, 10, 9): Cell(alive=True),\n",
       " (1, 10, 10): Cell(alive=False),\n",
       " (1, 10, 11): Cell(alive=False),\n",
       " (1, 10, 12): Cell(alive=False),\n",
       " (1, 10, 13): Cell(alive=True),\n",
       " (1, 10, 14): Cell(alive=False),\n",
       " (1, 10, 15): Cell(alive=False),\n",
       " (1, 10, 16): Cell(alive=False),\n",
       " (1, 10, 17): Cell(alive=False),\n",
       " (1, 10, 18): Cell(alive=False),\n",
       " (1, 10, 19): Cell(alive=True),\n",
       " (1, 11, 0): Cell(alive=False),\n",
       " (1, 11, 1): Cell(alive=False),\n",
       " (1, 11, 2): Cell(alive=True),\n",
       " (1, 11, 3): Cell(alive=True),\n",
       " (1, 11, 4): Cell(alive=True),\n",
       " (1, 11, 5): Cell(alive=True),\n",
       " (1, 11, 6): Cell(alive=False),\n",
       " (1, 11, 7): Cell(alive=False),\n",
       " (1, 11, 8): Cell(alive=False),\n",
       " (1, 11, 9): Cell(alive=False),\n",
       " (1, 11, 10): Cell(alive=False),\n",
       " (1, 11, 11): Cell(alive=False),\n",
       " (1, 11, 12): Cell(alive=False),\n",
       " (1, 11, 13): Cell(alive=True),\n",
       " (1, 11, 14): Cell(alive=True),\n",
       " (1, 11, 15): Cell(alive=False),\n",
       " (1, 11, 16): Cell(alive=False),\n",
       " (1, 11, 17): Cell(alive=False),\n",
       " (1, 11, 18): Cell(alive=True),\n",
       " (1, 11, 19): Cell(alive=False),\n",
       " (1, 12, 0): Cell(alive=False),\n",
       " (1, 12, 1): Cell(alive=False),\n",
       " (1, 12, 2): Cell(alive=False),\n",
       " (1, 12, 3): Cell(alive=False),\n",
       " (1, 12, 4): Cell(alive=False),\n",
       " (1, 12, 5): Cell(alive=True),\n",
       " (1, 12, 6): Cell(alive=False),\n",
       " (1, 12, 7): Cell(alive=False),\n",
       " (1, 12, 8): Cell(alive=False),\n",
       " (1, 12, 9): Cell(alive=True),\n",
       " (1, 12, 10): Cell(alive=True),\n",
       " (1, 12, 11): Cell(alive=False),\n",
       " (1, 12, 12): Cell(alive=True),\n",
       " (1, 12, 13): Cell(alive=False),\n",
       " (1, 12, 14): Cell(alive=False),\n",
       " (1, 12, 15): Cell(alive=True),\n",
       " (1, 12, 16): Cell(alive=False),\n",
       " (1, 12, 17): Cell(alive=True),\n",
       " (1, 12, 18): Cell(alive=False),\n",
       " (1, 12, 19): Cell(alive=False),\n",
       " (1, 13, 0): Cell(alive=False),\n",
       " (1, 13, 1): Cell(alive=False),\n",
       " (1, 13, 2): Cell(alive=False),\n",
       " (1, 13, 3): Cell(alive=False),\n",
       " (1, 13, 4): Cell(alive=True),\n",
       " (1, 13, 5): Cell(alive=True),\n",
       " (1, 13, 6): Cell(alive=False),\n",
       " (1, 13, 7): Cell(alive=False),\n",
       " (1, 13, 8): Cell(alive=False),\n",
       " (1, 13, 9): Cell(alive=False),\n",
       " (1, 13, 10): Cell(alive=True),\n",
       " (1, 13, 11): Cell(alive=True),\n",
       " (1, 13, 12): Cell(alive=False),\n",
       " (1, 13, 13): Cell(alive=False),\n",
       " (1, 13, 14): Cell(alive=False),\n",
       " (1, 13, 15): Cell(alive=False),\n",
       " (1, 13, 16): Cell(alive=False),\n",
       " (1, 13, 17): Cell(alive=False),\n",
       " (1, 13, 18): Cell(alive=True),\n",
       " (1, 13, 19): Cell(alive=False),\n",
       " (1, 14, 0): Cell(alive=False),\n",
       " (1, 14, 1): Cell(alive=False),\n",
       " (1, 14, 2): Cell(alive=False),\n",
       " (1, 14, 3): Cell(alive=True),\n",
       " (1, 14, 4): Cell(alive=False),\n",
       " (1, 14, 5): Cell(alive=False),\n",
       " (1, 14, 6): Cell(alive=True),\n",
       " (1, 14, 7): Cell(alive=True),\n",
       " (1, 14, 8): Cell(alive=False),\n",
       " (1, 14, 9): Cell(alive=True),\n",
       " (1, 14, 10): Cell(alive=False),\n",
       " (1, 14, 11): Cell(alive=False),\n",
       " (1, 14, 12): Cell(alive=False),\n",
       " (1, 14, 13): Cell(alive=False),\n",
       " (1, 14, 14): Cell(alive=False),\n",
       " (1, 14, 15): Cell(alive=True),\n",
       " (1, 14, 16): Cell(alive=False),\n",
       " (1, 14, 17): Cell(alive=False),\n",
       " (1, 14, 18): Cell(alive=False),\n",
       " (1, 14, 19): Cell(alive=False),\n",
       " (1, 15, 0): Cell(alive=True),\n",
       " (1, 15, 1): Cell(alive=False),\n",
       " (1, 15, 2): Cell(alive=False),\n",
       " (1, 15, 3): Cell(alive=True),\n",
       " (1, 15, 4): Cell(alive=False),\n",
       " (1, 15, 5): Cell(alive=True),\n",
       " (1, 15, 6): Cell(alive=True),\n",
       " (1, 15, 7): Cell(alive=True),\n",
       " (1, 15, 8): Cell(alive=True),\n",
       " (1, 15, 9): Cell(alive=False),\n",
       " (1, 15, 10): Cell(alive=False),\n",
       " (1, 15, 11): Cell(alive=False),\n",
       " (1, 15, 12): Cell(alive=True),\n",
       " (1, 15, 13): Cell(alive=True),\n",
       " (1, 15, 14): Cell(alive=True),\n",
       " (1, 15, 15): Cell(alive=False),\n",
       " (1, 15, 16): Cell(alive=False),\n",
       " (1, 15, 17): Cell(alive=False),\n",
       " (1, 15, 18): Cell(alive=False),\n",
       " (1, 15, 19): Cell(alive=True),\n",
       " (1, 16, 0): Cell(alive=False),\n",
       " (1, 16, 1): Cell(alive=True),\n",
       " (1, 16, 2): Cell(alive=False),\n",
       " (1, 16, 3): Cell(alive=False),\n",
       " (1, 16, 4): Cell(alive=False),\n",
       " (1, 16, 5): Cell(alive=False),\n",
       " (1, 16, 6): Cell(alive=False),\n",
       " (1, 16, 7): Cell(alive=True),\n",
       " (1, 16, 8): Cell(alive=True),\n",
       " (1, 16, 9): Cell(alive=False),\n",
       " (1, 16, 10): Cell(alive=False),\n",
       " (1, 16, 11): Cell(alive=False),\n",
       " (1, 16, 12): Cell(alive=True),\n",
       " (1, 16, 13): Cell(alive=False),\n",
       " (1, 16, 14): Cell(alive=False),\n",
       " (1, 16, 15): Cell(alive=True),\n",
       " (1, 16, 16): Cell(alive=True),\n",
       " (1, 16, 17): Cell(alive=False),\n",
       " (1, 16, 18): Cell(alive=False),\n",
       " (1, 16, 19): Cell(alive=True),\n",
       " (1, 17, 0): Cell(alive=False),\n",
       " (1, 17, 1): Cell(alive=True),\n",
       " (1, 17, 2): Cell(alive=False),\n",
       " (1, 17, 3): Cell(alive=False),\n",
       " (1, 17, 4): Cell(alive=False),\n",
       " (1, 17, 5): Cell(alive=True),\n",
       " (1, 17, 6): Cell(alive=False),\n",
       " (1, 17, 7): Cell(alive=False),\n",
       " (1, 17, 8): Cell(alive=False),\n",
       " (1, 17, 9): Cell(alive=False),\n",
       " (1, 17, 10): Cell(alive=False),\n",
       " (1, 17, 11): Cell(alive=False),\n",
       " (1, 17, 12): Cell(alive=False),\n",
       " (1, 17, 13): Cell(alive=False),\n",
       " (1, 17, 14): Cell(alive=False),\n",
       " (1, 17, 15): Cell(alive=True),\n",
       " (1, 17, 16): Cell(alive=False),\n",
       " (1, 17, 17): Cell(alive=False),\n",
       " (1, 17, 18): Cell(alive=True),\n",
       " (1, 17, 19): Cell(alive=True),\n",
       " (1, 18, 0): Cell(alive=False),\n",
       " (1, 18, 1): Cell(alive=True),\n",
       " (1, 18, 2): Cell(alive=False),\n",
       " (1, 18, 3): Cell(alive=False),\n",
       " (1, 18, 4): Cell(alive=True),\n",
       " (1, 18, 5): Cell(alive=True),\n",
       " (1, 18, 6): Cell(alive=True),\n",
       " (1, 18, 7): Cell(alive=True),\n",
       " (1, 18, 8): Cell(alive=True),\n",
       " (1, 18, 9): Cell(alive=False),\n",
       " (1, 18, 10): Cell(alive=False),\n",
       " (1, 18, 11): Cell(alive=True),\n",
       " (1, 18, 12): Cell(alive=False),\n",
       " (1, 18, 13): Cell(alive=True),\n",
       " (1, 18, 14): Cell(alive=True),\n",
       " (1, 18, 15): Cell(alive=False),\n",
       " (1, 18, 16): Cell(alive=False),\n",
       " (1, 18, 17): Cell(alive=False),\n",
       " (1, 18, 18): Cell(alive=True),\n",
       " (1, 18, 19): Cell(alive=False),\n",
       " (1, 19, 0): Cell(alive=False),\n",
       " (1, 19, 1): Cell(alive=False),\n",
       " (1, 19, 2): Cell(alive=False),\n",
       " (1, 19, 3): Cell(alive=False),\n",
       " (1, 19, 4): Cell(alive=True),\n",
       " (1, 19, 5): Cell(alive=False),\n",
       " (1, 19, 6): Cell(alive=False),\n",
       " (1, 19, 7): Cell(alive=False),\n",
       " (1, 19, 8): Cell(alive=False),\n",
       " (1, 19, 9): Cell(alive=False),\n",
       " (1, 19, 10): Cell(alive=True),\n",
       " (1, 19, 11): Cell(alive=False),\n",
       " (1, 19, 12): Cell(alive=False),\n",
       " (1, 19, 13): Cell(alive=False),\n",
       " (1, 19, 14): Cell(alive=True),\n",
       " (1, 19, 15): Cell(alive=False),\n",
       " (1, 19, 16): Cell(alive=True),\n",
       " (1, 19, 17): Cell(alive=True),\n",
       " (1, 19, 18): Cell(alive=False),\n",
       " (1, 19, 19): Cell(alive=False)}"
      ]
     },
     "execution_count": 16,
     "metadata": {},
     "output_type": "execute_result"
    }
   ],
   "source": [
    "foo.grid"
   ]
  },
  {
   "cell_type": "code",
   "execution_count": 13,
   "metadata": {},
   "outputs": [
    {
     "ename": "TypeError",
     "evalue": "unhashable type: 'numpy.ndarray'",
     "output_type": "error",
     "traceback": [
      "\u001b[0;31m---------------------------------------------------------------------------\u001b[0m",
      "\u001b[0;31mTypeError\u001b[0m                                 Traceback (most recent call last)",
      "Cell \u001b[0;32mIn[13], line 1\u001b[0m\n\u001b[0;32m----> 1\u001b[0m \u001b[38;5;28;01mfor\u001b[39;00m cell \u001b[38;5;129;01min\u001b[39;00m \u001b[43mfoo\u001b[49m\u001b[38;5;241;43m.\u001b[39;49m\u001b[43mgrid\u001b[49m\u001b[43m[\u001b[49m\u001b[43munderpopulation\u001b[49m\u001b[43m]\u001b[49m:\n\u001b[1;32m      2\u001b[0m     cell\u001b[38;5;241m.\u001b[39mset(\u001b[38;5;28;01mFalse\u001b[39;00m)\n",
      "\u001b[0;31mTypeError\u001b[0m: unhashable type: 'numpy.ndarray'"
     ]
    }
   ],
   "source": [
    "for cell in foo.grid[underpopulation]:\n",
    "    cell.set(False)\n"
   ]
  },
  {
   "cell_type": "code",
   "execution_count": 1,
   "metadata": {},
   "outputs": [],
   "source": [
    "import yaml"
   ]
  },
  {
   "cell_type": "code",
   "execution_count": null,
   "metadata": {},
   "outputs": [],
   "source": [
    "with open('config.yml', 'r') as file:\n",
    "    config = yaml.safe_load(file)#yaml.load(file, Loader=yaml.FullLoader)\n",
    "\n",
    "survival = config[\"sq_rules\"][\"survival\"]"
   ]
  },
  {
   "cell_type": "code",
   "execution_count": 41,
   "metadata": {},
   "outputs": [
    {
     "data": {
      "text/plain": [
       "'white'"
      ]
     },
     "execution_count": 41,
     "metadata": {},
     "output_type": "execute_result"
    }
   ],
   "source": [
    "config[\"layout\"][\"colors\"][\"LIVE\"]"
   ]
  },
  {
   "cell_type": "code",
   "execution_count": 52,
   "metadata": {},
   "outputs": [],
   "source": [
    "survival = config[\"sq_rules\"][\"survival\"]"
   ]
  },
  {
   "cell_type": "code",
   "execution_count": 29,
   "metadata": {},
   "outputs": [],
   "source": [
    "import numpy as np\n",
    "from dataclasses import dataclass\n",
    "\n",
    "import seaborn as sns\n",
    "import matplotlib.pyplot as plt\n",
    "\n",
    "from scipy.signal import convolve2d\n",
    "\n",
    "from game_of_life import *\n",
    "from scipy.ndimage import convolve\n",
    "\n",
    "import yaml"
   ]
  },
  {
   "cell_type": "code",
   "execution_count": 55,
   "metadata": {},
   "outputs": [],
   "source": [
    "with open('config.yml', 'r') as file:\n",
    "    config = yaml.safe_load(file)#yaml.load(file, Loader=yaml.FullLoader)\n",
    "\n",
    "survival = config[\"sq_rules\"][\"survival\"]\n",
    "birth = config[\"sq_rules\"][\"birth\"]"
   ]
  },
  {
   "cell_type": "code",
   "execution_count": 56,
   "metadata": {},
   "outputs": [],
   "source": [
    "foo = SqLattice((10,10))\n",
    "foo.clear()\n",
    "foo.grid[1,1].set(True)\n",
    "foo.grid[1,2].set(True)\n",
    "foo.grid[1,3].set(True)\n",
    "current = foo.get_states().astype(int)\n",
    "live_nbrs = convolve(current, foo.nbrhd_kernel, mode=\"wrap\")\n",
    "current = foo.get_states().astype(int)\n",
    "live_nbrs = convolve2d(current,foo.nbrhd_kernel,mode=\"same\",boundary=\"wrap\")"
   ]
  },
  {
   "cell_type": "code",
   "execution_count": 49,
   "metadata": {},
   "outputs": [
    {
     "data": {
      "text/plain": [
       "<Axes: >"
      ]
     },
     "execution_count": 49,
     "metadata": {},
     "output_type": "execute_result"
    },
    {
     "data": {
      "image/png": "[encoded data removed]",
      "text/plain": [
       "<Figure size 640x480 with 2 Axes>"
      ]
     },
     "metadata": {},
     "output_type": "display_data"
    }
   ],
   "source": [
    "sns.heatmap(foo.get_states(),linewidths=0.1)"
   ]
  },
  {
   "cell_type": "code",
   "execution_count": 54,
   "metadata": {},
   "outputs": [
    {
     "data": {
      "text/plain": [
       "<Axes: >"
      ]
     },
     "execution_count": 54,
     "metadata": {},
     "output_type": "execute_result"
    },
    {
     "data": {
      "image/png": "[encoded data removed]",
      "text/plain": [
       "<Figure size 640x480 with 2 Axes>"
      ]
     },
     "metadata": {},
     "output_type": "display_data"
    }
   ],
   "source": [
    "sns.heatmap(np.isin(live_nbrs,survival) & foo.get_states(),linewidths=0.1)"
   ]
  },
  {
   "cell_type": "code",
   "execution_count": 57,
   "metadata": {},
   "outputs": [
    {
     "data": {
      "text/plain": [
       "<Axes: >"
      ]
     },
     "execution_count": 57,
     "metadata": {},
     "output_type": "execute_result"
    },
    {
     "data": {
      "image/png": "[encoded data removed]",
      "text/plain": [
       "<Figure size 640x480 with 2 Axes>"
      ]
     },
     "metadata": {},
     "output_type": "display_data"
    }
   ],
   "source": [
    "sns.heatmap(np.isin(live_nbrs,birth) & ~foo.get_states(),linewidths=0.1)"
   ]
  },
  {
   "cell_type": "code",
   "execution_count": null,
   "metadata": {},
   "outputs": [],
   "source": []
  }
 ],
 "metadata": {
  "kernelspec": {
   "display_name": "DS",
   "language": "python",
   "name": "python3"
  },
  "language_info": {
   "codemirror_mode": {
    "name": "ipython",
    "version": 3
   },
   "file_extension": ".py",
   "mimetype": "text/x-python",
   "name": "python",
   "nbconvert_exporter": "python",
   "pygments_lexer": "ipython3",
   "version": "3.11.10"
  }
 },
 "nbformat": 4,
 "nbformat_minor": 2
}
