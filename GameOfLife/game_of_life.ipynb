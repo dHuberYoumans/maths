{
 "cells": [
  {
   "cell_type": "code",
   "execution_count": 4,
   "metadata": {},
   "outputs": [],
   "source": [
    "import numpy as np\n",
    "from dataclasses import dataclass\n",
    "\n",
    "import seaborn as sns\n",
    "import matplotlib.pyplot as plt"
   ]
  },
  {
   "cell_type": "code",
   "execution_count": 240,
   "metadata": {},
   "outputs": [],
   "source": [
    "@dataclass\n",
    "class Cell():\n",
    "    alive: bool = False\n",
    "\n",
    "    def set(self,state):\n",
    "        self.alive = state\n",
    "\n",
    "    def get(self):\n",
    "        return self.alive\n",
    "    \n",
    "class Lattice():\n",
    "    def __init__(self,size: int):\n",
    "        self.size = size\n",
    "        self.grid = np.array([[Cell() for i in range(self.size)] for j in range(self.size)])\n",
    "\n",
    "    def set_state(self, idx: list[tuple[int,int]], state: bool):\n",
    "        row_idx = [row for row, _ in idx]\n",
    "        col_idx = [col for _, col in idx]\n",
    "\n",
    "        for cell in self.grid[row_idx,col_idx]:\n",
    "            cell.set(state)\n",
    "\n",
    "\n",
    "    def get_states(self, grid = None):\n",
    "        if grid is not None:\n",
    "            return np.array([[cell.get() for cell in row] for row in grid])\n",
    "        else:\n",
    "            return np.array([[cell.get() for cell in row] for row in self.grid])\n",
    "    \n",
    "    def plot(self, ax = None):\n",
    "        data_ = self.get_states()\n",
    "        if ax is not None:\n",
    "            self.img = ax.imshow(data_, cmap='rocket_r', interpolation='nearest') #sns.heatmap(data_,cbar=False,linewidths=0.1,xticklabels=False,yticklabels=False,cmap='rocket_r',ax = ax)\n",
    "        else:\n",
    "            self.img = plt.imshow(data_, cmap='rocket_r', interpolation='nearest') #sns.heatmap(data_,cbar=False,linewidths=0.1,xticklabels=False,yticklabels=False,cmap='rocket_r')\n",
    "        \n",
    "\n",
    "    # def animate(self, frame):\n",
    "    #     self.update()\n",
    "    #     self.img.set_data(self.get_states())\n",
    "    #     return [self.img]\n",
    "        \n",
    "\n",
    "    def update(self):\n",
    "        # bottom\n",
    "        bottom = self.get_states(np.roll(self.grid,-1,axis=0)).astype(int)\n",
    "        # up\n",
    "        up = self.get_states(np.roll(self.grid,1,axis=0)).astype(int)\n",
    "        # right\n",
    "        right = self.get_states(np.roll(self.grid,-1,axis=1)).astype(int)\n",
    "        # left \n",
    "        left = self.get_states(np.roll(self.grid,1,axis=1)).astype(int)\n",
    "        # upper right\n",
    "        upper_right = self.get_states(np.roll(np.roll(self.grid,-1,axis=1),1,axis=0)).astype(int)\n",
    "        # upper left\n",
    "        upper_left = self.get_states(np.roll(np.roll(self.grid,1,axis=1),1,axis=0)).astype(int)\n",
    "        # bottom right\n",
    "        bottom_right = self.get_states(np.roll(np.roll(self.grid,-1,axis=1),-1,axis=0)).astype(int)\n",
    "        # bottom left\n",
    "        bottom_left = self.get_states(np.roll(np.roll(self.grid,1,axis=1),-1,axis=0)).astype(int)\n",
    "\n",
    "        live_or_die = bottom + up + right + left + upper_left + upper_right + bottom_left + bottom_right # number of live nbrs\n",
    "\n",
    "        # update according to Conway's Game of Life\n",
    "        # conditions for live cells\n",
    "        underpopulation = np.where( (live_or_die < 2) & (self.get_states() == True) ) # dies\n",
    "        overpopulation = np.where( (live_or_die > 3) & (self.get_states() == True) ) # dies\n",
    "        stable = np.where( ( (live_or_die == 2) | (live_or_die == 3) ) & (self.get_states() == True) ) # lives\n",
    "\n",
    "        # conditions for dead cells\n",
    "        reborn = np.where((live_or_die == 3) & (self.get_states() == False)) # lives\n",
    "\n",
    "        # update\n",
    "        for cell in self.grid[*underpopulation]:\n",
    "            cell.set(False)\n",
    "\n",
    "        for cell in self.grid[*overpopulation]:\n",
    "            cell.set(False)\n",
    "\n",
    "        for cell in self.grid[*stable]:\n",
    "            cell.set(True)\n",
    "\n",
    "        for cell in self.grid[*reborn]:\n",
    "            cell.set(True)\n",
    "\n",
    "\n",
    "        \n"
   ]
  },
  {
   "cell_type": "markdown",
   "metadata": {},
   "source": [
    "* Any live cell with fewer than two live neighbours dies, as if by underpopulation.\n",
    "\n",
    "* Any live cell with two or three live neighbours lives on to the next generation.\n",
    "\n",
    "* Any live cell with more than three live neighbours dies, as if by overpopulation.\n",
    "\n",
    "* Any dead cell with exactly three live neighbours becomes a live cell, as if by reproduction"
   ]
  },
  {
   "cell_type": "code",
   "execution_count": 245,
   "metadata": {},
   "outputs": [],
   "source": [
    "from matplotlib.animation import FuncAnimation\n",
    "from IPython.display import display, clear_output\n",
    "import time"
   ]
  },
  {
   "cell_type": "code",
   "execution_count": 247,
   "metadata": {},
   "outputs": [
    {
     "data": {
      "image/png": "[encoded data removed]",
      "text/plain": [
       "<Figure size 640x480 with 1 Axes>"
      ]
     },
     "metadata": {},
     "output_type": "display_data"
    },
    {
     "data": {
      "image/png": "[encoded data removed]",
      "text/plain": [
       "<Figure size 640x480 with 1 Axes>"
      ]
     },
     "metadata": {},
     "output_type": "display_data"
    }
   ],
   "source": [
    "N = 5\n",
    "lattice = Lattice(N)\n",
    "\n",
    "blinker = [(2,1), (2,2), (2,3)]\n",
    "\n",
    "for idx in blinker:\n",
    "    lattice.set_state(blinker,True)\n",
    "\n",
    "fig, ax = plt.subplots()\n",
    "\n",
    "lattice.plot()\n",
    "\n",
    "def animate(frame):\n",
    "    print(frame)\n",
    "\n",
    "    lattice.update()  # Update the grid based on the Game of Life rules\n",
    "    lattice.img.set_data(lattice.get_states())  # Update the plot data\n",
    "\n",
    "    return [lattice.img]\n",
    "\n",
    "ani = FuncAnimation(\n",
    "    fig,          # The figure to animate\n",
    "    animate, # The update function to call at each frame\n",
    "    frames=100,   # Number of frames (can also be an iterable)\n",
    "    interval=500,  # Time between frames in milliseconds\n",
    "    blit=False     # Whether to use blitting for efficiency (only redrawing the parts that change)\n",
    ")\n",
    "\n",
    "\n",
    "   \n"
   ]
  },
  {
   "cell_type": "code",
   "execution_count": null,
   "metadata": {},
   "outputs": [],
   "source": []
  }
 ],
 "metadata": {
  "kernelspec": {
   "display_name": "DS",
   "language": "python",
   "name": "python3"
  },
  "language_info": {
   "codemirror_mode": {
    "name": "ipython",
    "version": 3
   },
   "file_extension": ".py",
   "mimetype": "text/x-python",
   "name": "python",
   "nbconvert_exporter": "python",
   "pygments_lexer": "ipython3",
   "version": "3.11.10"
  }
 },
 "nbformat": 4,
 "nbformat_minor": 2
}
