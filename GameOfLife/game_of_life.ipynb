{
 "cells": [
  {
   "cell_type": "code",
   "execution_count": 1,
   "metadata": {},
   "outputs": [],
   "source": [
    "import numpy as np\n",
    "from dataclasses import dataclass\n",
    "\n",
    "import seaborn as sns\n",
    "import matplotlib.pyplot as plt"
   ]
  },
  {
   "cell_type": "code",
   "execution_count": 8,
   "metadata": {},
   "outputs": [],
   "source": [
    "@dataclass\n",
    "class Cell():\n",
    "    alive: bool = False\n",
    "\n",
    "    def set(self,state):\n",
    "        self.alive = state\n",
    "\n",
    "    def get(self):\n",
    "        return self.alive\n",
    "    \n",
    "class Lattice():\n",
    "    def __init__(self,size: int):\n",
    "        self.size = size\n",
    "        self.grid = np.array([[Cell() for i in range(self.size)] for j in range(self.size)])\n",
    "\n",
    "    def set_state(self, idx: list[tuple[int,int]], state: bool):\n",
    "        row_idx = [row for row, _ in idx]\n",
    "        col_idx = [col for _, col in idx]\n",
    "\n",
    "        for cell in self.grid[row_idx,col_idx]:\n",
    "            cell.set(state)\n",
    "\n",
    "\n",
    "    def get_states(self, grid = None):\n",
    "        if grid is not None:\n",
    "            return np.array([[cell.get() for cell in row] for row in grid])\n",
    "        else:\n",
    "            return np.array([[cell.get() for cell in row] for row in self.grid])\n",
    "    \n",
    "    def plot(self, ax = None):\n",
    "        data_ = self.get_states()\n",
    "        if ax is not None:\n",
    "            self.img = sns.heatmap(data_,cbar=False,linewidths=0.1,xticklabels=False,yticklabels=False,cmap='rocket_r',ax = ax)\n",
    "        else:\n",
    "            self.img = sns.heatmap(data_,cbar=False,linewidths=0.1,xticklabels=False,yticklabels=False,cmap='rocket_r')\n",
    "        \n",
    "\n",
    "    # def animate(self, frame):\n",
    "    #     self.update()\n",
    "    #     self.img.set_data(self.get_states())\n",
    "    #     return [self.img]\n",
    "        \n",
    "\n",
    "    def update(self):\n",
    "        # bottom\n",
    "        bottom = self.get_states(np.roll(self.grid,-1,axis=0)).astype(int)\n",
    "        # up\n",
    "        up = self.get_states(np.roll(self.grid,1,axis=0)).astype(int)\n",
    "        # right\n",
    "        right = self.get_states(np.roll(self.grid,-1,axis=1)).astype(int)\n",
    "        # left \n",
    "        left = self.get_states(np.roll(self.grid,1,axis=1)).astype(int)\n",
    "        # upper right\n",
    "        upper_right = self.get_states(np.roll(np.roll(self.grid,-1,axis=1),1,axis=0)).astype(int)\n",
    "        # upper left\n",
    "        upper_left = self.get_states(np.roll(np.roll(self.grid,1,axis=1),1,axis=0)).astype(int)\n",
    "        # bottom right\n",
    "        bottom_right = self.get_states(np.roll(np.roll(self.grid,-1,axis=1),-1,axis=0)).astype(int)\n",
    "        # bottom left\n",
    "        bottom_left = self.get_states(np.roll(np.roll(self.grid,1,axis=1),-1,axis=0)).astype(int)\n",
    "\n",
    "        live_or_die = bottom + up + right + left + upper_left + upper_right + bottom_left + bottom_right # number of live nbrs\n",
    "\n",
    "        # update according to Conway's Game of Life\n",
    "        # conditions for live cells\n",
    "        underpopulation = np.where( (live_or_die < 2) & (self.get_states() == True) ) # dies\n",
    "        overpopulation = np.where( (live_or_die > 3) & (self.get_states() == True) ) # dies\n",
    "        stable = np.where( ( (live_or_die == 2) | (live_or_die == 3) ) & (self.get_states() == True) ) # lives\n",
    "\n",
    "        # conditions for dead cells\n",
    "        reborn = np.where((live_or_die == 3) & (self.get_states() == False)) # lives\n",
    "\n",
    "        # update\n",
    "        for cell in self.grid[*underpopulation]:\n",
    "            cell.set(False)\n",
    "\n",
    "        for cell in self.grid[*overpopulation]:\n",
    "            cell.set(False)\n",
    "\n",
    "        for cell in self.grid[*stable]:\n",
    "            cell.set(True)\n",
    "\n",
    "        for cell in self.grid[*reborn]:\n",
    "            cell.set(True)\n",
    "\n",
    "\n",
    "        \n"
   ]
  },
  {
   "cell_type": "markdown",
   "metadata": {},
   "source": [
    "* Any live cell with fewer than two live neighbours dies, as if by underpopulation.\n",
    "\n",
    "* Any live cell with two or three live neighbours lives on to the next generation.\n",
    "\n",
    "* Any live cell with more than three live neighbours dies, as if by overpopulation.\n",
    "\n",
    "* Any dead cell with exactly three live neighbours becomes a live cell, as if by reproduction"
   ]
  },
  {
   "cell_type": "code",
   "execution_count": 14,
   "metadata": {},
   "outputs": [
    {
     "data": {
      "image/png": "[encoded data removed]",
      "text/plain": [
       "<Figure size 640x480 with 1 Axes>"
      ]
     },
     "metadata": {},
     "output_type": "display_data"
    }
   ],
   "source": [
    "N = 9\n",
    "lattice = Lattice(N)\n",
    "\n",
    "blinker = [(2,1), (2,2), (2,3)]\n",
    "\n",
    "glider = [(2,2), (2,3),(2,4),(1,4),(0,3)]\n",
    "\n",
    "\n",
    "lattice.set_state(glider,True)\n",
    "\n",
    "fig, ax = plt.subplots()\n",
    "\n",
    "lattice.plot()\n"
   ]
  },
  {
   "cell_type": "markdown",
   "metadata": {},
   "source": [
    "**HECS = Hexagonal Efficient Coordinate System**\n",
    "\n",
    "parametrisation of hexagonal lattice:\n",
    "\n",
    "* parametrisation by two arrays\n",
    "\n",
    "* array 0 parametrises all even rows of lattice\n",
    "\n",
    "* array 1 parametrises all odd rows of lattice \n",
    "\n",
    "* each hexagon uniquely identified by triple $(a,r,c) \\in \\{0,1\\} \\times \\mathbb{Z} \\times \\mathbb{Z}$ where $a$ indexes array, $r,c$ row and coloumns\n",
    "\n",
    "* there is a linear transformation from $T \\colon \\{0,1\\} \\times \\mathbb{Z} \\times \\mathbb{Z} \\to \\mathbb{R}^2$ sending a triple $(a,r,c) \\mapsto (x,y)$ to the center of the corresponding hexagon"
   ]
  },
  {
   "cell_type": "code",
   "execution_count": 2,
   "metadata": {},
   "outputs": [],
   "source": [
    "size = 2\n",
    "\n",
    "T = np.sqrt(3)*size*np.array([[0.5,0,1],[0.5*np.sqrt(3), np.sqrt(3),0]]) \n",
    "\n",
    "def HECS_to_Cartesian(p:np.ndarray):\n",
    "   assert p.shape == (3,1), f\"expected shape (3,1), got {p.shape}\"\n",
    "\n",
    "   return tuple((T @ p).flatten())\n",
    "\n",
    "def create_hexagon(center:tuple[float,float],size):\n",
    "    i,j = center \n",
    "    \n",
    "    vertices = [\n",
    "        (i, j + size), \n",
    "        (i - 0.5 * np.sqrt(3)*size, j + 0.5*size), \n",
    "        (i - 0.5 * np.sqrt(3)*size, j - 0.5*size), \n",
    "        (i, j - size), \n",
    "        (i + 0.5 * np.sqrt(3)*size, j - 0.5*size), \n",
    "        (i + 0.5 * np.sqrt(3)*size, j + 0.5*size), \n",
    "        ]\n",
    "    return vertices\n",
    "\n",
    "def get_neighbours(hexagon: tuple[int,int,int]):\n",
    "    a,r,c = hexagon\n",
    "\n",
    "    right = (a, r, c + 1)\n",
    "    right_above = (1 - a, r - (1 - a), c + a)\n",
    "    left_above = (1 - a, r - (1 - a), c - (1 - a))\n",
    "    left = (a, r, c - 1)\n",
    "    left_below = (1 - a, r + a, c - (1 - a))\n",
    "    right_below = (1 - a, r + a, c + a)\n",
    "\n",
    "    return (right, right_above, left_above, left, left_below, right_below)\n",
    "\n",
    "\n",
    "        "
   ]
  },
  {
   "cell_type": "code",
   "execution_count": 80,
   "metadata": {},
   "outputs": [
    {
     "data": {
      "image/png": "[encoded data removed]",
      "text/plain": [
       "<Figure size 640x480 with 1 Axes>"
      ]
     },
     "metadata": {},
     "output_type": "display_data"
    }
   ],
   "source": [
    "# TESTING get_neighbours\n",
    "center0 = (0,0)\n",
    "centers = []\n",
    "nbrs = get_neighbours((0,0,0))\n",
    "\n",
    "for nbr in nbrs:\n",
    "    centers.append(HECS_to_Cartesian( np.array(nbr).reshape(-1,1)) )\n",
    "\n",
    "fig, ax  = plt.subplots()\n",
    "\n",
    "ax.scatter(*center0,color='blue')\n",
    "\n",
    "for center in centers:\n",
    "    vertices = create_hexagon(center)\n",
    "    ax.scatter(*center,color='red')\n",
    "\n",
    "    for x,y in vertices:\n",
    "        ax.scatter(x,y,color='k')\n",
    "\n"
   ]
  },
  {
   "cell_type": "code",
   "execution_count": 92,
   "metadata": {},
   "outputs": [
    {
     "data": {
      "image/png": "[encoded data removed]",
      "text/plain": [
       "<Figure size 640x480 with 1 Axes>"
      ]
     },
     "metadata": {},
     "output_type": "display_data"
    }
   ],
   "source": [
    "# TESTING HECS \n",
    "ROWS = 4\n",
    "COLS = 10\n",
    "even_rows = np.array([ [(0,r,c) for c  in range(COLS)] for r in range(ROWS)])\n",
    "odd_rows = np.array([ [(1,r,c) for c  in range(COLS)] for r in range(ROWS)])\n",
    "\n",
    "centers = []\n",
    "\n",
    "for a in [even_rows,odd_rows]:\n",
    "    for row in a:\n",
    "        for c in row:\n",
    "            centers.append(HECS_to_Cartesian(c.reshape(-1,1)))\n",
    "\n",
    "fig, ax  = plt.subplots()\n",
    "\n",
    "for center in centers:\n",
    "    vertices = create_hexagon(center)\n",
    "    ax.scatter(*center,color='red')\n",
    "\n",
    "    for x,y in vertices:\n",
    "        ax.scatter(x,y,color='k')\n"
   ]
  },
  {
   "cell_type": "code",
   "execution_count": 16,
   "metadata": {},
   "outputs": [
    {
     "data": {
      "text/plain": [
       "[(0, 1),\n",
       " (-0.8660254037844386, 0.5),\n",
       " (-0.8660254037844386, -0.5),\n",
       " (0, -1),\n",
       " (0.8660254037844386, -0.5),\n",
       " (0.8660254037844386, 0.5)]"
      ]
     },
     "execution_count": 16,
     "metadata": {},
     "output_type": "execute_result"
    }
   ],
   "source": [
    "centers = [(0,0)]\n",
    "vertices = []\n",
    "for center in centers:\n",
    "    vertices.extend(create_hexagon(center))\n",
    "\n",
    "vertices"
   ]
  },
  {
   "cell_type": "code",
   "execution_count": 17,
   "metadata": {},
   "outputs": [
    {
     "data": {
      "text/plain": [
       "[0,\n",
       " 1,\n",
       " -0.8660254037844386,\n",
       " 0.5,\n",
       " -0.8660254037844386,\n",
       " -0.5,\n",
       " 0,\n",
       " -1,\n",
       " 0.8660254037844386,\n",
       " -0.5,\n",
       " 0.8660254037844386,\n",
       " 0.5]"
      ]
     },
     "execution_count": 17,
     "metadata": {},
     "output_type": "execute_result"
    }
   ],
   "source": [
    "list(sum(vertices, ()))"
   ]
  },
  {
   "cell_type": "code",
   "execution_count": null,
   "metadata": {},
   "outputs": [],
   "source": []
  }
 ],
 "metadata": {
  "kernelspec": {
   "display_name": "DS",
   "language": "python",
   "name": "python3"
  },
  "language_info": {
   "codemirror_mode": {
    "name": "ipython",
    "version": 3
   },
   "file_extension": ".py",
   "mimetype": "text/x-python",
   "name": "python",
   "nbconvert_exporter": "python",
   "pygments_lexer": "ipython3",
   "version": "3.11.10"
  }
 },
 "nbformat": 4,
 "nbformat_minor": 2
}
